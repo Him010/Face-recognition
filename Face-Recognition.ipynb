{
 "cells": [
  {
   "cell_type": "code",
   "execution_count": 1,
   "metadata": {},
   "outputs": [],
   "source": [
    "import numpy as np\n",
    "import cv2\n",
    "import os"
   ]
  },
  {
   "cell_type": "code",
   "execution_count": 5,
   "metadata": {},
   "outputs": [
    {
     "data": {
      "text/plain": [
       "((400, 10000), (400,), (200, 10000))"
      ]
     },
     "execution_count": 5,
     "metadata": {},
     "output_type": "execute_result"
    }
   ],
   "source": [
    "f_01 = np.load('Himanshu.npy').reshape((200,-1))\n",
    "f_02 = np.load('Himanshu2.npy').reshape((200,-1))\n",
    "\n",
    "data = np.concatenate((f_01,f_02))\n",
    "labels = np.zeros((data.shape[0],))\n",
    "\n",
    "labels[0:f_01.shape[0]] = 1\n",
    "\n",
    "names= {\n",
    "    0: \"Himanshu\",\n",
    "    1: \"Vibhav\"\n",
    "}\n",
    "data.shape,labels.shape,f_01.shape"
   ]
  },
  {
   "cell_type": "code",
   "execution_count": 6,
   "metadata": {},
   "outputs": [
    {
     "data": {
      "text/plain": [
       "KNeighborsClassifier(algorithm='auto', leaf_size=30, metric='minkowski',\n",
       "                     metric_params=None, n_jobs=None, n_neighbors=7, p=2,\n",
       "                     weights='uniform')"
      ]
     },
     "execution_count": 6,
     "metadata": {},
     "output_type": "execute_result"
    }
   ],
   "source": [
    "from sklearn.neighbors import KNeighborsClassifier\n",
    "\n",
    "clf = KNeighborsClassifier(n_neighbors = 7)\n",
    "clf.fit(data,labels)"
   ]
  },
  {
   "cell_type": "code",
   "execution_count": 7,
   "metadata": {},
   "outputs": [],
   "source": [
    "cam = cv2.VideoCapture(0)\n",
    "facec = cv2.CascadeClassifier('haarcascade_frontalface_default.xml')\n",
    "font = cv2.FONT_HERSHEY_SIMPLEX\n",
    "\n",
    "X_test = []\n",
    "\n",
    "while True:\n",
    "    ret, fr = cam.read()\n",
    "    gray = cv2.cvtColor(fr,cv2.COLOR_BGR2GRAY)\n",
    "    faces = facec.detectMultiScale(gray,1.3,5)\n",
    "    \n",
    "    X_test = []\n",
    "    for x,y,w,h in faces:\n",
    "        img = gray[y:y+h,x:x+w]\n",
    "        img = cv2.resize(img,(100,100))\n",
    "        X_test.append(img.reshape(-1))\n",
    "        \n",
    "    if(len(faces)>0):\n",
    "        prediction = clf.predict(np.array(X_test))\n",
    "        \n",
    "        for x,y,w,h in faces:\n",
    "            cv2.rectangle(fr,(x,y),(x+w,y+h),(255,255,0),3)\n",
    "            cv2.putText(fr,names[int(prediction)],(x-25,y-25),font,1,(0,255,128),2)\n",
    "    \n",
    "    cv2.imshow(\"face\",fr)\n",
    "    key = cv2.waitKey(1) \n",
    "  \n",
    "    if key == 27 : \n",
    "        break\n",
    "\n",
    "cam.release()\n",
    "cv2.destroyAllWindows()"
   ]
  },
  {
   "cell_type": "code",
   "execution_count": null,
   "metadata": {},
   "outputs": [],
   "source": []
  }
 ],
 "metadata": {
  "kernelspec": {
   "display_name": "Python 3",
   "language": "python",
   "name": "python3"
  },
  "language_info": {
   "codemirror_mode": {
    "name": "ipython",
    "version": 3
   },
   "file_extension": ".py",
   "mimetype": "text/x-python",
   "name": "python",
   "nbconvert_exporter": "python",
   "pygments_lexer": "ipython3",
   "version": "3.7.4"
  }
 },
 "nbformat": 4,
 "nbformat_minor": 2
}
